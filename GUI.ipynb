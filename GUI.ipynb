import numpy as np
import joblib
import tkinter as tk
from tkinter import ttk

# Load saved models and preprocessing tools
model = joblib.load('catboost_optimized.pkl')
scaler = joblib.load('scaler.pkl')
transformer = joblib.load('transformer.pkl')
imputer = joblib.load('imputer.pkl')

# Prediction function
def predict_model(inputs):
    # Prepare input data
    data = np.array([inputs])

    # Data preprocessing
    data_imputed = imputer.transform(data)
    data_transformed = transformer.transform(data_imputed)
    data_scaled = scaler.transform(data_transformed)

    # Predict
    prediction = model.predict(data_scaled)
    return prediction[0]

# Create the main window
root = tk.Tk()
root.title("ML Prediction for Ammonia Nitrogen Adsorption Capacity by Biochar")
root.geometry("1366x768")
root.configure(bg="#E3F2FD")

# Title label
title_label = tk.Label(root, text="ML Prediction for Ammonia Nitrogen Adsorption Capacity by Biochar", font=("Poppins", 28, "bold"), fg="#0D47A1", bg="#E3F2FD")
title_label.grid(row=0, column=0, columnspan=4, pady=20)

# Create labeled entry fields for input parameters
def create_labeled_entry(parent, text, row, column):
    label = tk.Label(parent, text=text, font=("Poppins", 14), fg="#333333", bg=parent["bg"], wraplength=300, justify="left")
    label.grid(row=row, column=column, padx=20, pady=10, sticky=tk.W, columnspan=4)
    
    entry = ttk.Entry(parent, width=25)
    entry.grid(row=row + 1, column=column, padx=20, pady=10)
    
    def increment():
        try:
            value = float(entry.get())
            entry.delete(0, tk.END)
            entry.insert(0, str(value + 1))
        except ValueError:
            entry.delete(0, tk.END)
            entry.insert(0, "0")
    
    def decrement():
        try:
            value = float(entry.get())
            entry.delete(0, tk.END)
            entry.insert(0, str(value - 1))
        except ValueError:
            entry.delete(0, tk.END)
            entry.insert(0, "0")
    
    button_frame = tk.Frame(parent, bg=parent["bg"])
    button_frame.grid(row=row + 1, column=column + 1, padx=10, pady=10, sticky=tk.W)
    
    inc_button = ttk.Button(button_frame, text="+", command=increment, width=3)
    inc_button.pack(side=tk.LEFT, padx=5)
    
    dec_button = ttk.Button(button_frame, text="-", command=decrement, width=3)
    dec_button.pack(side=tk.LEFT, padx=5)
    
    return entry

# Set frame width
frame_width = 400

# Chemical Properties of Biomass
chemical_properties_frame = tk.Frame(root, bd=3, relief="groove", width=frame_width, bg="#BBDEFB")
chemical_properties_frame.grid(row=1, column=0, padx=25, pady=20, sticky=tk.NS)
chemical_properties_label = tk.Label(chemical_properties_frame, text="Chemical Properties of Biochar", font=("Poppins", 20, "bold"), fg="#0D47A1", bg="#BBDEFB", wraplength=frame_width, justify="left")
chemical_properties_label.grid(row=0, column=0, columnspan=4, pady=15)
inputs = {}
inputs['C'] = create_labeled_entry(chemical_properties_frame, "Carbon Content (C, wt.%):", 1, 0)
inputs['HC'] = create_labeled_entry(chemical_properties_frame, "Molar Ratio H/C:", 3, 0)
inputs['OC'] = create_labeled_entry(chemical_properties_frame, "Molar Ratio O/C:", 5, 0)
inputs['Ash'] = create_labeled_entry(chemical_properties_frame, "Ash Content (Ash, %):", 7, 0)

# Physical Properties of Biochar
physical_properties_frame = tk.Frame(root, bd=3, relief="groove", width=frame_width, bg="#BBDEFB")
physical_properties_frame.grid(row=1, column=1, padx=25, pady=20, sticky=tk.NS)
physical_properties_label = tk.Label(physical_properties_frame, text="Physical Properties of Biochar", font=("Poppins", 20, "bold"), fg="#0D47A1", bg="#BBDEFB", wraplength=frame_width, justify="left")
physical_properties_label.grid(row=0, column=0, columnspan=4, pady=15)
inputs['pH_bio'] = create_labeled_entry(physical_properties_frame, "pH of Biochar (pH_bio):", 1, 0)
inputs['BET'] = create_labeled_entry(physical_properties_frame, "Specific Surface Area (BET, m²/g):", 3, 0)
inputs['V'] = create_labeled_entry(physical_properties_frame, "Total Pore Volume (V, cm³/g):", 5, 0)

# Experimental Conditions
experimental_conditions_frame = tk.Frame(root, bd=3, relief="groove", width=frame_width, bg="#BBDEFB")
experimental_conditions_frame.grid(row=1, column=2, padx=25, pady=20, sticky=tk.NS)
experimental_conditions_label = tk.Label(experimental_conditions_frame, text="Experimental Conditions", font=("Poppins", 20, "bold"), fg="#0D47A1", bg="#BBDEFB", wraplength=frame_width, justify="left")
experimental_conditions_label.grid(row=0, column=0, columnspan=4, pady=15)
inputs['Temp'] = create_labeled_entry(experimental_conditions_frame, "Experimental Temperature (Temp, °C):", 1, 0)
inputs['pH'] = create_labeled_entry(experimental_conditions_frame, "Solution pH:", 3, 0)
inputs['C0'] = create_labeled_entry(experimental_conditions_frame, "Initial Concentration of Ammonia Nitrogen to Dosage of Biochar (C₀, mg/g):", 5, 0)

# Predict button handler
def handle_predict():
    try:
        # Gather inputs
        input_values = [float(inputs[key].get()) for key in inputs]
        # Get prediction
        prediction = predict_model(input_values)
        result_label.config(text=f'Predicted Adsorption Capacity: {prediction:.2f} mg/g', fg="#2E7D32")
    except ValueError:
        result_label.config(text="Please enter valid numeric values for all fields.", fg="red")

# Predict button
style = ttk.Style()
style.configure('Custom.TButton', background='#90CAF9', foreground='black', font=("Poppins", 16), padding=[10, 8])

predict_button = ttk.Button(root, text="Predict", command=handle_predict, style='Custom.TButton')
predict_button.grid(row=2, column=0, columnspan=4, pady=40)

# Result label
result_label = tk.Label(root, text="Prediction will appear here", font=("Poppins", 20), fg="#333333", bg="#E3F2FD")
result_label.grid(row=3, column=0, columnspan=4, pady=25)

# Run the Tkinter main loop
root.mainloop()